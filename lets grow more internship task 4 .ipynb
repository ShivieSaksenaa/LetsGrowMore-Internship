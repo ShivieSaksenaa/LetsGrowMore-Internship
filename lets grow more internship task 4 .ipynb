{
 "cells": [
  {
   "cell_type": "markdown",
   "id": "a28914ee",
   "metadata": {},
   "source": [
    "# DATA SCIENCE INTERN @ LetsGrowMore"
   ]
  },
  {
   "cell_type": "markdown",
   "id": "d707871d",
   "metadata": {},
   "source": [
    "## November 2021"
   ]
  },
  {
   "cell_type": "markdown",
   "id": "d8e85a1c",
   "metadata": {},
   "source": [
    "### Developer: Shivie Saksenaa"
   ]
  },
  {
   "cell_type": "markdown",
   "id": "13ff1a8f",
   "metadata": {},
   "source": [
    "### Task 4 : Image to pencil sketch"
   ]
  },
  {
   "cell_type": "markdown",
   "id": "c8c7b846",
   "metadata": {},
   "source": [
    "##### Loading libraries "
   ]
  },
  {
   "cell_type": "code",
   "execution_count": 12,
   "id": "22de6563",
   "metadata": {},
   "outputs": [],
   "source": [
    "import numpy as np\n",
    "import cv2"
   ]
  },
  {
   "cell_type": "markdown",
   "id": "da474b14",
   "metadata": {},
   "source": [
    "IMPORTING THE IMAGE "
   ]
  },
  {
   "cell_type": "code",
   "execution_count": 9,
   "id": "072d3af1",
   "metadata": {},
   "outputs": [
    {
     "data": {
      "text/plain": [
       "-1"
      ]
     },
     "execution_count": 9,
     "metadata": {},
     "output_type": "execute_result"
    }
   ],
   "source": [
    "pic=cv2.imread(\"TomAndJerry.jpeg\")\n",
    "cv2.imshow('Tom and Jerry',pic)\n",
    "cv2.waitKey(0)"
   ]
  },
  {
   "cell_type": "markdown",
   "id": "c730d3da",
   "metadata": {},
   "source": [
    "COVERTING THE IMAGE INTO A GRAYSCALE IMAGE "
   ]
  },
  {
   "cell_type": "code",
   "execution_count": 10,
   "id": "b7f58867",
   "metadata": {},
   "outputs": [
    {
     "data": {
      "text/plain": [
       "-1"
      ]
     },
     "execution_count": 10,
     "metadata": {},
     "output_type": "execute_result"
    }
   ],
   "source": [
    "#greyscale image\n",
    "gray_img=cv2.cvtColor(pic,cv2.COLOR_BGR2GRAY)\n",
    "cv2.imshow('greyscale image',gray_img)\n",
    "cv2.waitKey(0)"
   ]
  },
  {
   "cell_type": "markdown",
   "id": "df81530a",
   "metadata": {},
   "source": [
    "INVERSION OF GRAYSCALE IMAGE "
   ]
  },
  {
   "cell_type": "code",
   "execution_count": 5,
   "id": "4d3e1023",
   "metadata": {},
   "outputs": [
    {
     "data": {
      "text/plain": [
       "-1"
      ]
     },
     "execution_count": 5,
     "metadata": {},
     "output_type": "execute_result"
    }
   ],
   "source": [
    "#inverted grayscale image\n",
    "inverted_gray=cv2.bitwise_not(gray_img)\n",
    "cv2.imshow('Tom and Jerry',inverted_gray)\n",
    "cv2.waitKey(0)"
   ]
  },
  {
   "cell_type": "markdown",
   "id": "60525f80",
   "metadata": {},
   "source": [
    "BLURING THE  INVERTED GRAYSCALE IMAGE "
   ]
  },
  {
   "cell_type": "code",
   "execution_count": 6,
   "id": "deb80600",
   "metadata": {},
   "outputs": [
    {
     "data": {
      "text/plain": [
       "-1"
      ]
     },
     "execution_count": 6,
     "metadata": {},
     "output_type": "execute_result"
    }
   ],
   "source": [
    "#blur image \n",
    "blur_gray=cv2.GaussianBlur(inverted_gray,(21,21),0)\n",
    "cv2.imshow('Tom and Jerry',blur_gray)\n",
    "cv2.waitKey(0)\n"
   ]
  },
  {
   "cell_type": "markdown",
   "id": "358d5c48",
   "metadata": {},
   "source": [
    "INVERSISION OF BLURRED INVERTED GRAYSCALE IMAGE "
   ]
  },
  {
   "cell_type": "code",
   "execution_count": 7,
   "id": "4dd96777",
   "metadata": {},
   "outputs": [
    {
     "data": {
      "text/plain": [
       "-1"
      ]
     },
     "execution_count": 7,
     "metadata": {},
     "output_type": "execute_result"
    }
   ],
   "source": [
    "inverted_blurgray=cv2.bitwise_not(blur_gray)\n",
    "cv2.imshow('Tom and Jerry',inverted_blurgray)\n",
    "cv2.waitKey(0)"
   ]
  },
  {
   "cell_type": "markdown",
   "id": "805f62dc",
   "metadata": {},
   "source": [
    "PERFORMING DIVISION TO GET THE REQUIRED OUTPUT : SKETCH"
   ]
  },
  {
   "cell_type": "code",
   "execution_count": 8,
   "id": "c6ed9ab5",
   "metadata": {},
   "outputs": [
    {
     "data": {
      "text/plain": [
       "-1"
      ]
     },
     "execution_count": 8,
     "metadata": {},
     "output_type": "execute_result"
    }
   ],
   "source": [
    "sketch= cv2.divide(gray_img,inverted_blurgray,scale=256)\n",
    "cv2.imshow('Tom and Jerry',sketch)\n",
    "cv2.waitKey(0)"
   ]
  },
  {
   "cell_type": "markdown",
   "id": "21a2727a",
   "metadata": {},
   "source": [
    "SAVING THE IMAGE (SKETCH)"
   ]
  },
  {
   "cell_type": "code",
   "execution_count": 34,
   "id": "429b1931",
   "metadata": {},
   "outputs": [
    {
     "data": {
      "text/plain": [
       "True"
      ]
     },
     "execution_count": 34,
     "metadata": {},
     "output_type": "execute_result"
    }
   ],
   "source": [
    "cv2.imwrite(\"Tom and Jerry Sketch.png\",sketch)"
   ]
  },
  {
   "cell_type": "code",
   "execution_count": null,
   "id": "6d813454",
   "metadata": {},
   "outputs": [],
   "source": []
  }
 ],
 "metadata": {
  "kernelspec": {
   "display_name": "Python 3 (ipykernel)",
   "language": "python",
   "name": "python3"
  },
  "language_info": {
   "codemirror_mode": {
    "name": "ipython",
    "version": 3
   },
   "file_extension": ".py",
   "mimetype": "text/x-python",
   "name": "python",
   "nbconvert_exporter": "python",
   "pygments_lexer": "ipython3",
   "version": "3.9.6"
  }
 },
 "nbformat": 4,
 "nbformat_minor": 5
}
